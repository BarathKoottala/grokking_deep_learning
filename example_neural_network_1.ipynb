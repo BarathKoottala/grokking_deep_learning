{
 "cells": [
  {
   "cell_type": "markdown",
   "id": "50104efc-ddf7-43d2-8e6c-776949ab7210",
   "metadata": {},
   "source": [
    "# First Example Neural Network"
   ]
  },
  {
   "cell_type": "code",
   "execution_count": 7,
   "id": "68dc8f19-5db5-4f70-bd90-6296620d3572",
   "metadata": {},
   "outputs": [],
   "source": [
    "weight = 0.1\n",
    "def neural_network_basic(input, weight):\n",
    "    prediction = input * weight\n",
    "    return prediction\n"
   ]
  },
  {
   "cell_type": "code",
   "execution_count": 8,
   "id": "153a88dc-2ebb-4dbd-b963-df16640163d5",
   "metadata": {},
   "outputs": [
    {
     "name": "stdout",
     "output_type": "stream",
     "text": [
      "5.4\n"
     ]
    }
   ],
   "source": [
    "games_played_by_player = [5, 50, 605, 84]\n",
    "prediction = neural_network_basic(games_played_by_player[0], 1.08)\n",
    "print(prediction)"
   ]
  }
 ],
 "metadata": {
  "kernelspec": {
   "display_name": "Python 3 (ipykernel)",
   "language": "python",
   "name": "python3"
  },
  "language_info": {
   "codemirror_mode": {
    "name": "ipython",
    "version": 3
   },
   "file_extension": ".py",
   "mimetype": "text/x-python",
   "name": "python",
   "nbconvert_exporter": "python",
   "pygments_lexer": "ipython3",
   "version": "3.12.3"
  }
 },
 "nbformat": 4,
 "nbformat_minor": 5
}
